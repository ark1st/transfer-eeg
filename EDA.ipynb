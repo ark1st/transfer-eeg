{
 "cells": [
  {
   "cell_type": "code",
   "execution_count": 1,
   "outputs": [],
   "source": [
    "import pandas as pd\n",
    "import seaborn as sns\n",
    "import mne"
   ],
   "metadata": {
    "collapsed": false,
    "pycharm": {
     "name": "#%%\n"
    }
   }
  },
  {
   "cell_type": "code",
   "execution_count": 6,
   "outputs": [
    {
     "data": {
      "text/plain": "          id                                                dir  lowpass  \\\n0          0  E:\\ubuntu\\dataset\\000\\00000001\\s001_2002_12_30...      125   \n1          1  E:\\ubuntu\\dataset\\000\\00000001\\s001_2002_12_30...      125   \n2          2  E:\\ubuntu\\dataset\\000\\00000001\\s001_2002_12_30...      125   \n3          3  E:\\ubuntu\\dataset\\000\\00000001\\s001_2002_12_30...      125   \n4          4  E:\\ubuntu\\dataset\\000\\00000001\\s001_2002_12_30...      125   \n...      ...                                                ...      ...   \n12796  12796  E:\\ubuntu\\dataset\\084\\00008440\\s001_2011_09_23...      125   \n12797  12797  E:\\ubuntu\\dataset\\084\\00008447\\s001_2011_10_05...      125   \n12798  12798  E:\\ubuntu\\dataset\\084\\00008448\\s001_2011_09_22...      125   \n12799  12799  E:\\ubuntu\\dataset\\084\\00008452\\s001_2011_06_10...      125   \n12800  12800  E:\\ubuntu\\dataset\\084\\00008455\\s001_2011_06_08...      125   \n\n       sfreq  nchan  duration  \\\n0        250     33     92750   \n1        250     33    123750   \n2        250     33    108000   \n3        250     33     60250   \n4        250     33    125500   \n...      ...    ...       ...   \n12796    250     41    300750   \n12797    250     41    300250   \n12798    250     41    307750   \n12799    250     41    300500   \n12800    250     41    300750   \n\n                                                ch_names  \n0      ['EEG FP1-LE', 'EEG FP2-LE', 'EEG F3-LE', 'EEG...  \n1      ['EEG FP1-LE', 'EEG FP2-LE', 'EEG F3-LE', 'EEG...  \n2      ['EEG FP1-LE', 'EEG FP2-LE', 'EEG F3-LE', 'EEG...  \n3      ['EEG FP1-LE', 'EEG FP2-LE', 'EEG F3-LE', 'EEG...  \n4      ['EEG FP1-LE', 'EEG FP2-LE', 'EEG F3-LE', 'EEG...  \n...                                                  ...  \n12796  ['EEG FP1-LE', 'EEG FP2-LE', 'EEG F3-LE', 'EEG...  \n12797  ['EEG FP1-LE', 'EEG FP2-LE', 'EEG F3-LE', 'EEG...  \n12798  ['EEG FP1-LE', 'EEG FP2-LE', 'EEG F3-LE', 'EEG...  \n12799  ['EEG FP1-LE', 'EEG FP2-LE', 'EEG F3-LE', 'EEG...  \n12800  ['EEG FP1-LE', 'EEG FP2-LE', 'EEG F3-LE', 'EEG...  \n\n[12801 rows x 7 columns]",
      "text/html": "<div>\n<style scoped>\n    .dataframe tbody tr th:only-of-type {\n        vertical-align: middle;\n    }\n\n    .dataframe tbody tr th {\n        vertical-align: top;\n    }\n\n    .dataframe thead th {\n        text-align: right;\n    }\n</style>\n<table border=\"1\" class=\"dataframe\">\n  <thead>\n    <tr style=\"text-align: right;\">\n      <th></th>\n      <th>id</th>\n      <th>dir</th>\n      <th>lowpass</th>\n      <th>sfreq</th>\n      <th>nchan</th>\n      <th>duration</th>\n      <th>ch_names</th>\n    </tr>\n  </thead>\n  <tbody>\n    <tr>\n      <th>0</th>\n      <td>0</td>\n      <td>E:\\ubuntu\\dataset\\000\\00000001\\s001_2002_12_30...</td>\n      <td>125</td>\n      <td>250</td>\n      <td>33</td>\n      <td>92750</td>\n      <td>['EEG FP1-LE', 'EEG FP2-LE', 'EEG F3-LE', 'EEG...</td>\n    </tr>\n    <tr>\n      <th>1</th>\n      <td>1</td>\n      <td>E:\\ubuntu\\dataset\\000\\00000001\\s001_2002_12_30...</td>\n      <td>125</td>\n      <td>250</td>\n      <td>33</td>\n      <td>123750</td>\n      <td>['EEG FP1-LE', 'EEG FP2-LE', 'EEG F3-LE', 'EEG...</td>\n    </tr>\n    <tr>\n      <th>2</th>\n      <td>2</td>\n      <td>E:\\ubuntu\\dataset\\000\\00000001\\s001_2002_12_30...</td>\n      <td>125</td>\n      <td>250</td>\n      <td>33</td>\n      <td>108000</td>\n      <td>['EEG FP1-LE', 'EEG FP2-LE', 'EEG F3-LE', 'EEG...</td>\n    </tr>\n    <tr>\n      <th>3</th>\n      <td>3</td>\n      <td>E:\\ubuntu\\dataset\\000\\00000001\\s001_2002_12_30...</td>\n      <td>125</td>\n      <td>250</td>\n      <td>33</td>\n      <td>60250</td>\n      <td>['EEG FP1-LE', 'EEG FP2-LE', 'EEG F3-LE', 'EEG...</td>\n    </tr>\n    <tr>\n      <th>4</th>\n      <td>4</td>\n      <td>E:\\ubuntu\\dataset\\000\\00000001\\s001_2002_12_30...</td>\n      <td>125</td>\n      <td>250</td>\n      <td>33</td>\n      <td>125500</td>\n      <td>['EEG FP1-LE', 'EEG FP2-LE', 'EEG F3-LE', 'EEG...</td>\n    </tr>\n    <tr>\n      <th>...</th>\n      <td>...</td>\n      <td>...</td>\n      <td>...</td>\n      <td>...</td>\n      <td>...</td>\n      <td>...</td>\n      <td>...</td>\n    </tr>\n    <tr>\n      <th>12796</th>\n      <td>12796</td>\n      <td>E:\\ubuntu\\dataset\\084\\00008440\\s001_2011_09_23...</td>\n      <td>125</td>\n      <td>250</td>\n      <td>41</td>\n      <td>300750</td>\n      <td>['EEG FP1-LE', 'EEG FP2-LE', 'EEG F3-LE', 'EEG...</td>\n    </tr>\n    <tr>\n      <th>12797</th>\n      <td>12797</td>\n      <td>E:\\ubuntu\\dataset\\084\\00008447\\s001_2011_10_05...</td>\n      <td>125</td>\n      <td>250</td>\n      <td>41</td>\n      <td>300250</td>\n      <td>['EEG FP1-LE', 'EEG FP2-LE', 'EEG F3-LE', 'EEG...</td>\n    </tr>\n    <tr>\n      <th>12798</th>\n      <td>12798</td>\n      <td>E:\\ubuntu\\dataset\\084\\00008448\\s001_2011_09_22...</td>\n      <td>125</td>\n      <td>250</td>\n      <td>41</td>\n      <td>307750</td>\n      <td>['EEG FP1-LE', 'EEG FP2-LE', 'EEG F3-LE', 'EEG...</td>\n    </tr>\n    <tr>\n      <th>12799</th>\n      <td>12799</td>\n      <td>E:\\ubuntu\\dataset\\084\\00008452\\s001_2011_06_10...</td>\n      <td>125</td>\n      <td>250</td>\n      <td>41</td>\n      <td>300500</td>\n      <td>['EEG FP1-LE', 'EEG FP2-LE', 'EEG F3-LE', 'EEG...</td>\n    </tr>\n    <tr>\n      <th>12800</th>\n      <td>12800</td>\n      <td>E:\\ubuntu\\dataset\\084\\00008455\\s001_2011_06_08...</td>\n      <td>125</td>\n      <td>250</td>\n      <td>41</td>\n      <td>300750</td>\n      <td>['EEG FP1-LE', 'EEG FP2-LE', 'EEG F3-LE', 'EEG...</td>\n    </tr>\n  </tbody>\n</table>\n<p>12801 rows × 7 columns</p>\n</div>"
     },
     "execution_count": 6,
     "metadata": {},
     "output_type": "execute_result"
    }
   ],
   "source": [
    "df = pd.read_excel(\"dataset.xlsx\")\n",
    "df"
   ],
   "metadata": {
    "collapsed": false,
    "pycharm": {
     "name": "#%%\n"
    }
   }
  },
  {
   "cell_type": "code",
   "execution_count": 3,
   "outputs": [
    {
     "data": {
      "text/plain": "250    12795\n256        6\nName: sfreq, dtype: int64"
     },
     "execution_count": 3,
     "metadata": {},
     "output_type": "execute_result"
    }
   ],
   "source": [
    "df['sfreq'].value_counts()"
   ],
   "metadata": {
    "collapsed": false,
    "pycharm": {
     "name": "#%%\n"
    }
   }
  },
  {
   "cell_type": "code",
   "execution_count": 4,
   "outputs": [
    {
     "data": {
      "text/plain": "125    12795\n128        6\nName: lowpass, dtype: int64"
     },
     "execution_count": 4,
     "metadata": {},
     "output_type": "execute_result"
    }
   ],
   "source": [
    "df['lowpass'].value_counts()"
   ],
   "metadata": {
    "collapsed": false,
    "pycharm": {
     "name": "#%%\n"
    }
   }
  },
  {
   "cell_type": "code",
   "execution_count": 5,
   "outputs": [
    {
     "data": {
      "text/plain": "count       12801\nmean       256543\nstd        358912\nmin          1250\n25%         95000\n50%        300250\n75%        311000\nmax      18470400\nName: duration, dtype: int32"
     },
     "execution_count": 5,
     "metadata": {},
     "output_type": "execute_result"
    }
   ],
   "source": [
    "df['duration'].describe().astype(int)"
   ],
   "metadata": {
    "collapsed": false,
    "pycharm": {
     "name": "#%%\n"
    }
   }
  },
  {
   "cell_type": "code",
   "execution_count": 5,
   "outputs": [],
   "source": [],
   "metadata": {
    "collapsed": false,
    "pycharm": {
     "name": "#%%\n"
    }
   }
  },
  {
   "cell_type": "code",
   "execution_count": null,
   "outputs": [],
   "source": [],
   "metadata": {
    "collapsed": false,
    "pycharm": {
     "name": "#%%\n"
    }
   }
  }
 ],
 "metadata": {
  "kernelspec": {
   "display_name": "Python 3",
   "language": "python",
   "name": "python3"
  },
  "language_info": {
   "codemirror_mode": {
    "name": "ipython",
    "version": 2
   },
   "file_extension": ".py",
   "mimetype": "text/x-python",
   "name": "python",
   "nbconvert_exporter": "python",
   "pygments_lexer": "ipython2",
   "version": "2.7.6"
  }
 },
 "nbformat": 4,
 "nbformat_minor": 0
}