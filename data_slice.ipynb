{
 "cells": [
  {
   "cell_type": "code",
   "execution_count": 4,
   "outputs": [],
   "source": [
    "import numpy as np\n",
    "import matplotlib.pyplot as plt\n",
    "from scipy import signal\n",
    "import glob\n",
    "import pandas as pd\n",
    "from sklearn.decomposition import FastICA, PCA"
   ],
   "metadata": {
    "collapsed": false,
    "pycharm": {
     "name": "#%%\n"
    }
   }
  },
  {
   "cell_type": "code",
   "execution_count": 11,
   "outputs": [
    {
     "name": "stdout",
     "output_type": "stream",
     "text": [
      "file_list:['D:/Depression/MDD_dataset/data/MDD/EC\\\\MDD S1 EC.edf.csv', 'D:/Depression/MDD_dataset/data/MDD/EC\\\\MDD S10 EC.edf.csv', 'D:/Depression/MDD_dataset/data/MDD/EC\\\\MDD S11 EC.edf.csv', 'D:/Depression/MDD_dataset/data/MDD/EC\\\\MDD S12 EC.edf.csv', 'D:/Depression/MDD_dataset/data/MDD/EC\\\\MDD S13 EC.edf.csv', 'D:/Depression/MDD_dataset/data/MDD/EC\\\\MDD S14 EC.edf.csv', 'D:/Depression/MDD_dataset/data/MDD/EC\\\\MDD S15 EC.edf.csv', 'D:/Depression/MDD_dataset/data/MDD/EC\\\\MDD S16 EC.edf.csv', 'D:/Depression/MDD_dataset/data/MDD/EC\\\\MDD S17 EC.edf.csv', 'D:/Depression/MDD_dataset/data/MDD/EC\\\\MDD S18 EC.edf.csv', 'D:/Depression/MDD_dataset/data/MDD/EC\\\\MDD S19 EC.edf.csv', 'D:/Depression/MDD_dataset/data/MDD/EC\\\\MDD S2 EC.edf.csv', 'D:/Depression/MDD_dataset/data/MDD/EC\\\\MDD S20 EC.edf.csv', 'D:/Depression/MDD_dataset/data/MDD/EC\\\\MDD S21 EC.edf.csv', 'D:/Depression/MDD_dataset/data/MDD/EC\\\\MDD S22 EC.edf.csv', 'D:/Depression/MDD_dataset/data/MDD/EC\\\\MDD S23 EC.edf.csv', 'D:/Depression/MDD_dataset/data/MDD/EC\\\\MDD S24 EC.edf.csv', 'D:/Depression/MDD_dataset/data/MDD/EC\\\\MDD S25 EC.edf.csv', 'D:/Depression/MDD_dataset/data/MDD/EC\\\\MDD S26 EC.edf.csv', 'D:/Depression/MDD_dataset/data/MDD/EC\\\\MDD S27 EC.edf.csv', 'D:/Depression/MDD_dataset/data/MDD/EC\\\\MDD S28 EC.edf.csv', 'D:/Depression/MDD_dataset/data/MDD/EC\\\\MDD S29 EC.edf.csv', 'D:/Depression/MDD_dataset/data/MDD/EC\\\\MDD S3 EC.edf.csv', 'D:/Depression/MDD_dataset/data/MDD/EC\\\\MDD S30 EC.edf.csv', 'D:/Depression/MDD_dataset/data/MDD/EC\\\\MDD S4 EC.edf.csv', 'D:/Depression/MDD_dataset/data/MDD/EC\\\\MDD S5 EC.edf.csv', 'D:/Depression/MDD_dataset/data/MDD/EC\\\\MDD S6 EC.edf.csv', 'D:/Depression/MDD_dataset/data/MDD/EC\\\\MDD S7 EC.edf.csv', 'D:/Depression/MDD_dataset/data/MDD/EC\\\\MDD S8 EC.edf.csv', 'D:/Depression/MDD_dataset/data/MDD/EC\\\\MDD S9 EC.edf.csv']\n"
     ]
    }
   ],
   "source": [
    "######change path\n",
    "path = 'D:/Depression/MDD_dataset/data/MDD/EC/**'\n",
    "file_list_in = glob.glob(path)\n",
    "list_im = [file for file in file_list_in]\n",
    "list_im.sort()\n",
    "print(\"file_list:{}\".format(list_im))"
   ],
   "metadata": {
    "collapsed": false,
    "pycharm": {
     "name": "#%%\n"
    }
   }
  },
  {
   "cell_type": "code",
   "execution_count": 12,
   "outputs": [],
   "source": [
    "for k in range(len(list_im)):\n",
    "    data_first = pd.read_csv(list_im[k])\n",
    "    for i in range(15):\n",
    "        sliced_data = data_first.iloc[i*5120 : (i+1)*5120]\n",
    "\n",
    "        if(len(sliced_data.columns) == 20):\n",
    "            sliced_data.to_csv('./sliced_data/MDD_PCA/'+'MDD_EC_'+str(k)+\"_\"+str(i)+'.csv', index=False, header=['Fp1-LE','F3-LE','C3-LE','P3-LE','O1-LE','F7-LE',\n",
    "                                                                                                        'T3-LE','T5-LE','Fz-LE','Fp2-LE','F4-LE','C4-LE','P4-LE','O2-LE','F8-LE','T4-LE','T6-LE','Cz-LE','Pz-LE','A2-A1'])\n",
    "        elif(len(sliced_data.columns) == 22):\n",
    "            sliced_data.to_csv('./sliced_data/H_PCA/'+'H_EC_'+str(k)+\"_\"+str(i)+'.csv', index=False, header=['Fp1-LE','F3-LE','C3-LE','P3-LE','O1-LE','F7-LE',\n",
    "                                                                                                        'T3-LE','T5-LE','Fz-LE','Fp2-LE','F4-LE','C4-LE','P4-LE','O2-LE','F8-LE','T4-LE','T6-LE','Cz-LE','Pz-LE','A2-A1','23A-23R','24A-24R'])\n",
    "        else:\n",
    "            print(\"else error\")"
   ],
   "metadata": {
    "collapsed": false,
    "pycharm": {
     "name": "#%%\n"
    }
   }
  },
  {
   "cell_type": "code",
   "execution_count": null,
   "metadata": {
    "collapsed": true
   },
   "outputs": [],
   "source": []
  }
 ],
 "metadata": {
  "kernelspec": {
   "display_name": "Python 3",
   "language": "python",
   "name": "python3"
  },
  "language_info": {
   "codemirror_mode": {
    "name": "ipython",
    "version": 2
   },
   "file_extension": ".py",
   "mimetype": "text/x-python",
   "name": "python",
   "nbconvert_exporter": "python",
   "pygments_lexer": "ipython2",
   "version": "2.7.6"
  }
 },
 "nbformat": 4,
 "nbformat_minor": 0
}